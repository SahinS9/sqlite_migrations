{
 "cells": [
  {
   "cell_type": "code",
   "execution_count": 2,
   "metadata": {},
   "outputs": [],
   "source": [
    "import pandas as pd \n",
    "import numpy as np \n",
    "import sqlite3"
   ]
  },
  {
   "cell_type": "code",
   "execution_count": 67,
   "metadata": {},
   "outputs": [],
   "source": [
    "def select_table (table_name):\n",
    "    try:\n",
    "        q = f\"select * from {table_name}\"\n",
    "        print(\"query created\")\n",
    "    except:\n",
    "        print('query can not be created')\n",
    "\n",
    "    try:\n",
    "        output = conn.execute(q).fetchall()\n",
    "        print(\"output received\")\n",
    "    except:\n",
    "        print(Error)\n",
    "    print(\"table data\")\n",
    "    return output\n"
   ]
  },
  {
   "cell_type": "code",
   "execution_count": null,
   "metadata": {},
   "outputs": [],
   "source": []
  },
  {
   "cell_type": "code",
   "execution_count": 55,
   "metadata": {},
   "outputs": [],
   "source": [
    "conn = sqlite3.connect('db.db')\n",
    "# conn2 = sqlite3.connect('db.sqlite3')"
   ]
  },
  {
   "cell_type": "code",
   "execution_count": 24,
   "metadata": {},
   "outputs": [],
   "source": [
    "q1 = \"\"\" select * FROM sqlite_master \n",
    "WHERE type='table'\"\"\""
   ]
  },
  {
   "cell_type": "code",
   "execution_count": 25,
   "metadata": {},
   "outputs": [],
   "source": [
    "cursor = conn.execute(q1)\n",
    "table_names = cursor.fetchall()"
   ]
  },
  {
   "cell_type": "code",
   "execution_count": 26,
   "metadata": {},
   "outputs": [
    {
     "data": {
      "text/plain": [
       "[]"
      ]
     },
     "execution_count": 26,
     "metadata": {},
     "output_type": "execute_result"
    }
   ],
   "source": [
    "# for table in table_names:\n",
    "#     print(table[0])\n",
    "table_names"
   ]
  },
  {
   "cell_type": "code",
   "execution_count": 27,
   "metadata": {},
   "outputs": [],
   "source": [
    "#structure\n",
    "# users table\n",
    "# accounts table\n",
    "# account_types table\n",
    "# transactions table\n",
    "# transaction_types\n",
    "# beneficiaries\n",
    "# loan_applications\n",
    "# cards\n",
    "# branches\n",
    "# employees\n",
    "# loans\n",
    "# deposits\n"
   ]
  },
  {
   "cell_type": "code",
   "execution_count": 42,
   "metadata": {},
   "outputs": [],
   "source": [
    "q = \"\"\"CREATE TABLE IF NOT EXISTS users (\n",
    "    id INTEGER Primary Key,\n",
    "    first_name TEXT ,\n",
    "    last_name TEXT,\n",
    "    phone_number TEXT,\n",
    "    pin_code TEXT,\n",
    "    email TEXT,\n",
    "    created_at TIMESTAMP DEFAULT CURRENT_TIME,\n",
    "    udpated_at TIMESTAMP DEFAULT CURRENT_TIME\n",
    ")\"\"\"\n",
    "\n",
    "\n",
    "# CREATE TABLE accounts (\n",
    "#     id INTEGER Primary Key,\n",
    "#     user_id INTEGER,\n",
    "#     account_type INTEGER,\n",
    "#     balance REAL,\n",
    "#     FOREIGN KEY (user_id) REFERENCES users(id),\n",
    "#     FOREIGN KEY (account_type) REFERENCES account_types(id)\n",
    "# )\n",
    "\n",
    "# CREATE TABLE account_types (\n",
    "#     id INTEGER Primary Key,\n",
    "#     account_name TEXT\n",
    "# )\n",
    "# \"\"\""
   ]
  },
  {
   "cell_type": "code",
   "execution_count": 43,
   "metadata": {},
   "outputs": [
    {
     "data": {
      "text/plain": [
       "<sqlite3.Cursor at 0x7fd991a6c030>"
      ]
     },
     "execution_count": 43,
     "metadata": {},
     "output_type": "execute_result"
    }
   ],
   "source": [
    "conn.execute(q)\n"
   ]
  },
  {
   "cell_type": "code",
   "execution_count": 68,
   "metadata": {},
   "outputs": [
    {
     "name": "stdout",
     "output_type": "stream",
     "text": [
      "query created\n",
      "output received\n"
     ]
    },
    {
     "data": {
      "text/plain": [
       "'Table Data \\n                []'"
      ]
     },
     "execution_count": 68,
     "metadata": {},
     "output_type": "execute_result"
    }
   ],
   "source": [
    "select_table(table_name= \"users\")"
   ]
  },
  {
   "cell_type": "code",
   "execution_count": null,
   "metadata": {},
   "outputs": [],
   "source": []
  }
 ],
 "metadata": {
  "kernelspec": {
   "display_name": "Python 3",
   "language": "python",
   "name": "python3"
  },
  "language_info": {
   "codemirror_mode": {
    "name": "ipython",
    "version": 3
   },
   "file_extension": ".py",
   "mimetype": "text/x-python",
   "name": "python",
   "nbconvert_exporter": "python",
   "pygments_lexer": "ipython3",
   "version": "3.8.2"
  },
  "orig_nbformat": 4
 },
 "nbformat": 4,
 "nbformat_minor": 2
}
