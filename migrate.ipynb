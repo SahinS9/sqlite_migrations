{
 "cells": [
  {
   "cell_type": "code",
   "execution_count": 1,
   "metadata": {},
   "outputs": [],
   "source": [
    "import pandas as pd \n",
    "import numpy as np \n",
    "import sqlite3"
   ]
  },
  {
   "cell_type": "markdown",
   "metadata": {},
   "source": [
    "## Notes"
   ]
  },
  {
   "cell_type": "code",
   "execution_count": 12,
   "metadata": {},
   "outputs": [],
   "source": [
    "#STRUCTURE\n",
    "# users table - added\n",
    "# accounts table - added\n",
    "# account_types table - added\n",
    "# beneficiaries\n",
    "# loan_types _?\n",
    "# loans _ ?\n",
    "# loan_applications _ ?\n",
    "# card_types - added\n",
    "# cards - added\n",
    "# branches\n",
    "# employees\n",
    "# deposits\n",
    "# transaction_types\n",
    "# transactions table  \n"
   ]
  },
  {
   "cell_type": "code",
   "execution_count": null,
   "metadata": {},
   "outputs": [],
   "source": [
    "# view table is needed to check how much left from loan (next version)"
   ]
  },
  {
   "cell_type": "code",
   "execution_count": 13,
   "metadata": {},
   "outputs": [],
   "source": [
    "# In a banking scenario, a \"loans\" table would typically store information about loans issued by the bank to its customers. The specific columns you would need in this table depend on the details you want to track. Here's a list of common columns you might include in a \"loans\" table:\n",
    "\n",
    "# loan_id: A unique identifier for each loan.\n",
    "# customer_id: The ID of the customer who received the loan.\n",
    "# loan_amount: The amount of money lent for the loan.\n",
    "# interest_rate: The interest rate for the loan.\n",
    "# loan_type: The type of loan (e.g., personal, mortgage, business).\n",
    "# start_date: The date when the loan was issued.\n",
    "# end_date: The expected or actual date when the loan will be fully repaid.\n",
    "# term_months: The loan term in months.\n",
    "# status: The status of the loan (e.g., active, paid off, overdue).\n",
    "# collateral: Information about any collateral provided for the loan.\n",
    "# monthly_payment: The monthly payment amount.\n",
    "# remaining_balance: The remaining balance of the loan.\n",
    "# early_payment_penalty: Penalty for early repayment (if applicable).\n",
    "# late_payment_penalty: Penalty for late payments (if applicable).\n",
    "# notes: Any additional notes or comments related to the loan."
   ]
  },
  {
   "cell_type": "code",
   "execution_count": null,
   "metadata": {},
   "outputs": [],
   "source": []
  },
  {
   "cell_type": "code",
   "execution_count": null,
   "metadata": {},
   "outputs": [],
   "source": []
  },
  {
   "cell_type": "markdown",
   "metadata": {},
   "source": [
    "## CODE"
   ]
  },
  {
   "cell_type": "code",
   "execution_count": 5,
   "metadata": {},
   "outputs": [],
   "source": [
    "conn = sqlite3.connect('db.db')\n",
    "\n",
    "def check_table(table_name):\n",
    "    try:\n",
    "        q = f\"select * from {table_name}\"\n",
    "        print(\"query created\")\n",
    "    except:\n",
    "        print('query can not be created')\n",
    "\n",
    "    try:\n",
    "        output = conn.execute(q).fetchall()\n",
    "        print(\"output received\")\n",
    "    except sqlite3.Error as err:\n",
    "        print(err)\n",
    "    print(\"table data\")\n",
    "    conn.close()\n",
    "    return output\n",
    "\n",
    "def show_tables (connection):\n",
    "    try:\n",
    "        q = \"\"\" select * FROM sqlite_master \n",
    "                WHERE type='table'\"\"\"\n",
    "    except sqlite3.Error as err:\n",
    "        print(err)\n",
    "    conn.close()\n",
    "    conn.execute(q).fetchall()\n",
    "\n",
    "def run_query(query, db):\n",
    "    q = query\n",
    "    conn = sqlite3.connect(f'{db}.db')\n",
    "    output = conn.execute(q).fetchall()\n",
    "    return output"
   ]
  },
  {
   "cell_type": "code",
   "execution_count": 36,
   "metadata": {},
   "outputs": [],
   "source": [
    "create_users_table = \"\"\"CREATE TABLE IF NOT EXISTS users (\n",
    "    id INTEGER Primary Key\n",
    "    ,first_name TEXT\n",
    "    ,last_name TEXT\n",
    "    ,phone_number TEXT\n",
    "    ,pin_code TEXT CHECK( LENGHT(pin_code) = 6)\n",
    "    ,email TEXT\n",
    "    ,created_at TIMESTAMP DEFAULT CURRENT_TIME\n",
    "--    ,udpated_at TIMESTAMP DEFAULT CURRENT_TIME\n",
    ")\"\"\"\n",
    "\n",
    "creat_account_types_table= \"\"\"\n",
    "CREATE TABLE IF NOT EXISTS account_types(\n",
    "    id INTEGER PRIMARY KEY\n",
    "    ,account_name TEXT\n",
    "    ,locale TEXT CHECK (LENGTH(locale) <= 3)\n",
    ")\n",
    "\"\"\"\n",
    "\n",
    "create_accounts_table = \"\"\" \n",
    "CREATE TABLE IF NOT EXISTS accounts(\n",
    "    id INTEGER Primary Key\n",
    "    ,account_type INTEGER\n",
    "    ,user_id INTEGER\n",
    "    ,FOREIGN KEY(user_id) REFERENCES users(id)\n",
    "    ,FOREIGN KEY(account_type) REFERENCES account_types(id)\n",
    ")\n",
    "\"\"\"\n",
    "\n",
    "create_card_types_table = \"\"\" \n",
    "CREATE TABLE IF NOT EXISTS card_types(\n",
    "    id INTEGER Primary Key\n",
    "    ,card_name TEXT \n",
    "    ,locale TEXT CHECK ( LENGTH (locale) <= 3)\n",
    ")\n",
    "\n",
    "\"\"\"\n",
    "\n",
    "create_cards_table = \"\"\"\n",
    "CREATE TABLE IF NOT EXISTS cards(\n",
    "    id INTEGER Primary Key\n",
    "    , card_number INTEGER CHECK( LENGTH (card_number) = 16)\n",
    "    , card_type INTEGER\n",
    "    , account INTEGER\n",
    "    , FOREIGN KEY (card_type) REFERENCES card_types(id)\n",
    "    , FOREIGN KEY (account) REFERENCES accounts(id)\n",
    ")\n",
    "\"\"\"\n",
    "\n",
    "# create_loans = \"\"\" \n",
    "# CREATE TABLE IF NOT EXISTS loan_types (\n",
    "#     id INTEGER Primary Key\n",
    "#     ,loan_name TEXT \n",
    "#     ,grace_period_days INTEGER CHECK (LENGTH (grace_period_days) <= 3)\n",
    "# )\n",
    "# \"\"\"\n",
    "\n",
    "create_transaction_types_table = \"\"\"\n",
    "CREATE TABLE IF NOT EXISTS transaction_types(\n",
    "    id INTEGER PRIMARY KEY\n",
    "    ,transaction_name TEXT \n",
    "    ,locale TEXT CHECK (LENGTH (locale) <= 3)\n",
    "    -- withdrawal, payment, deposit, transfer\n",
    ")\n",
    "\"\"\"\n",
    "\n",
    "\n",
    "#https://github.com/datasets/currency-codes/blob/master/data/codes-all.csv\n",
    "create_currencies_table = \"\"\"\n",
    "CREATE TABLE IF NOT EXISTS currencies(\n",
    "    id INTEGER Primary Key\n",
    "    ,country_name\n",
    "    ,currency_code TEXT CHECK( LENGTH(currency_name) <=3)\n",
    ")\n",
    "\"\"\"\n",
    "\n",
    "create_fee_types_table  =\"\"\"\n",
    "CREATE TABLE IF NOT EXISTS fees(\n",
    "    id INTEGER Primary Key\n",
    "    ,fee_name TEXT\n",
    "    ,description TEXT\n",
    ")\n",
    "\"\"\"\n",
    "\n",
    "\n",
    "\n",
    "create_transactions_table = \"\"\"\n",
    "CREATE TABLE IF NOT EXISTS transactions(\n",
    "    id INTEGER Primary Key\n",
    "    ,by_user INTEGER\n",
    "    ,amount FLOAT\n",
    "    ,fee FLOAT\n",
    "    ,currency TEXT\n",
    "    ,reference_number INTEGER\n",
    "    ,transaction_method TEXT\n",
    "    -- ATM, online banking\n",
    "    ,from_account_id INTEGER\n",
    "    ,to_account_id INTEGER\n",
    "    ,transaction_type INTEGER\n",
    "    ,transaction_date TIMESTAMP DEFAULT CURRENT_TIME\n",
    "    ,status TEXT \n",
    "    ,note TEXT CHECK ( LENGTH(note) < 256 )\n",
    "\n",
    "    , FOREIGN KEY (user_id) REFERENCES users(id)\n",
    "    , FOREIGN KEY (currency) REFERENCES currencies(currency_code)\n",
    "    , FOREIGN KEY (from_account_id) REFERENCES accounts(id)\n",
    "    , FOREIGN KEY (to_account_id) REFERENCES accounts(id)\n",
    "    , FOREIGN KEY (transaction_type) REFRENCRES transaction_types(id)\n",
    ")\n",
    "\"\"\"\n",
    "\n",
    "\n",
    "\n",
    "\n",
    "\n",
    "\n",
    "# CREATE TABLE accounts (\n",
    "#     id INTEGER Primary Key,\n",
    "#     user_id INTEGER,\n",
    "#     account_type INTEGER,\n",
    "#     balance REAL,\n",
    "#     FOREIGN KEY (user_id) REFERENCES users(id),\n",
    "#     FOREIGN KEY (account_type) REFERENCES account_types(id)\n",
    "# )\n",
    "\n",
    "# CREATE TABLE account_types (\n",
    "#     id INTEGER Primary Key,\n",
    "#     account_name TEXT\n",
    "# )\n",
    "# \"\"\""
   ]
  },
  {
   "cell_type": "code",
   "execution_count": 37,
   "metadata": {},
   "outputs": [],
   "source": [
    "tables = [create_users_table,creat_account_types_table,create_accounts_table,create_card_types_table,create_cards_table,create_transaction_types_table,create_currencies_table,\n",
    "create_fee_types_table,create_transactions_table]"
   ]
  },
  {
   "cell_type": "code",
   "execution_count": 38,
   "metadata": {},
   "outputs": [
    {
     "ename": "OperationalError",
     "evalue": "near \"account\": syntax error",
     "output_type": "error",
     "traceback": [
      "\u001b[1;31m---------------------------------------------------------------------------\u001b[0m",
      "\u001b[1;31mOperationalError\u001b[0m                          Traceback (most recent call last)",
      "Cell \u001b[1;32mIn[38], line 2\u001b[0m\n\u001b[0;32m      1\u001b[0m \u001b[39mfor\u001b[39;00m x \u001b[39min\u001b[39;00m tables:\n\u001b[1;32m----> 2\u001b[0m     conn\u001b[39m.\u001b[39;49mexecute(x)\u001b[39m.\u001b[39mfetchall()\n",
      "\u001b[1;31mOperationalError\u001b[0m: near \"account\": syntax error"
     ]
    }
   ],
   "source": [
    "for x in tables:\n",
    "    conn.execute(x).fetchall()"
   ]
  },
  {
   "cell_type": "code",
   "execution_count": 35,
   "metadata": {},
   "outputs": [
    {
     "ename": "OperationalError",
     "evalue": "near \"user_id\": syntax error",
     "output_type": "error",
     "traceback": [
      "\u001b[1;31m---------------------------------------------------------------------------\u001b[0m",
      "\u001b[1;31mOperationalError\u001b[0m                          Traceback (most recent call last)",
      "Cell \u001b[1;32mIn[35], line 1\u001b[0m\n\u001b[1;32m----> 1\u001b[0m conn\u001b[39m.\u001b[39;49mexecute(tables[\u001b[39m2\u001b[39;49m])\n",
      "\u001b[1;31mOperationalError\u001b[0m: near \"user_id\": syntax error"
     ]
    }
   ],
   "source": [
    "conn.execute(tables[2])"
   ]
  },
  {
   "cell_type": "code",
   "execution_count": 22,
   "metadata": {},
   "outputs": [],
   "source": [
    "q = \"\"\" select * FROM sqlite_master \n",
    "        WHERE type='table'\"\"\""
   ]
  },
  {
   "cell_type": "code",
   "execution_count": 23,
   "metadata": {},
   "outputs": [
    {
     "data": {
      "text/plain": [
       "[('table',\n",
       "  'users',\n",
       "  'users',\n",
       "  2,\n",
       "  'CREATE TABLE users (\\n    id INTEGER Primary Key,\\n    first_name TEXT ,\\n    last_name TEXT,\\n    phone_number TEXT,\\n    pin_code TEXT,\\n    email TEXT,\\n    created_at TIMESTAMP DEFAULT CURRENT_TIME,\\n    udpated_at TIMESTAMP DEFAULT CURRENT_TIME\\n)')]"
      ]
     },
     "execution_count": 23,
     "metadata": {},
     "output_type": "execute_result"
    }
   ],
   "source": [
    "conn.execute(q).fetchall()"
   ]
  },
  {
   "cell_type": "code",
   "execution_count": null,
   "metadata": {},
   "outputs": [],
   "source": []
  },
  {
   "cell_type": "code",
   "execution_count": null,
   "metadata": {},
   "outputs": [],
   "source": []
  },
  {
   "cell_type": "code",
   "execution_count": null,
   "metadata": {},
   "outputs": [],
   "source": []
  },
  {
   "cell_type": "markdown",
   "metadata": {},
   "source": [
    "## Next Version Parts"
   ]
  },
  {
   "cell_type": "code",
   "execution_count": 4,
   "metadata": {},
   "outputs": [],
   "source": [
    "# TO change udpated_at on each modification for next version\n",
    "query = \"\"\"CREATE TRIGGER update_your_table_name \n",
    "AFTER UPDATE ON your_table_name\n",
    "FOR EACH ROW\n",
    "BEGIN\n",
    "    UPDATE your_table_name\n",
    "    SET updated_at = CURRENT_TIMESTAMP\n",
    "    WHERE id = OLD.id;\n",
    "END;\n",
    "\"\"\""
   ]
  },
  {
   "cell_type": "code",
   "execution_count": null,
   "metadata": {},
   "outputs": [],
   "source": []
  }
 ],
 "metadata": {
  "kernelspec": {
   "display_name": "Python 3",
   "language": "python",
   "name": "python3"
  },
  "language_info": {
   "codemirror_mode": {
    "name": "ipython",
    "version": 3
   },
   "file_extension": ".py",
   "mimetype": "text/x-python",
   "name": "python",
   "nbconvert_exporter": "python",
   "pygments_lexer": "ipython3",
   "version": "3.11.4"
  },
  "orig_nbformat": 4
 },
 "nbformat": 4,
 "nbformat_minor": 2
}
