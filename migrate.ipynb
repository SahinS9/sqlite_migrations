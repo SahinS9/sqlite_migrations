{
 "cells": [
  {
   "cell_type": "code",
   "execution_count": 2,
   "metadata": {},
   "outputs": [],
   "source": [
    "import pandas as pd \n",
    "import numpy as np \n",
    "import sqlite3"
   ]
  },
  {
   "cell_type": "code",
   "execution_count": null,
   "metadata": {},
   "outputs": [],
   "source": [
    "#STRUCTURE\n",
    "# users table\n",
    "# accounts table\n",
    "# account_types table\n",
    "# transactions table\n",
    "# transaction_types\n",
    "# beneficiaries\n",
    "# loan_applications\n",
    "# cards\n",
    "# branches\n",
    "# employees\n",
    "# loans\n",
    "# deposits\n"
   ]
  },
  {
   "cell_type": "code",
   "execution_count": 80,
   "metadata": {},
   "outputs": [],
   "source": [
    "def check_table(table_name):\n",
    "    try:\n",
    "        q = f\"select * from {table_name}\"\n",
    "        print(\"query created\")\n",
    "    except:\n",
    "        print('query can not be created')\n",
    "\n",
    "    try:\n",
    "        output = conn.execute(q).fetchall()\n",
    "        print(\"output received\")\n",
    "    except:\n",
    "        print(Error)\n",
    "    print(\"table data\")\n",
    "    return output\n",
    "\n",
    "def show_tables (connection):\n",
    "    try:\n",
    "        q = \"\"\" select * FROM sqlite_master \n",
    "                WHERE type='table'\"\"\"\n",
    "    except:\n",
    "        print(Error)\n",
    "    return conn.execute(q).fetchall()\n",
    "\n",
    "def run_query(query, db):\n",
    "    q = query\n",
    "    conn = sqlite3.connect(f'{db}.db')\n",
    "    output = conn.execute(q).fetchall()\n",
    "    return output"
   ]
  },
  {
   "cell_type": "code",
   "execution_count": 42,
   "metadata": {},
   "outputs": [],
   "source": [
    "q = \"\"\"CREATE TABLE IF NOT EXISTS users (\n",
    "    id INTEGER Primary Key,\n",
    "    first_name TEXT ,\n",
    "    last_name TEXT,\n",
    "    phone_number TEXT,\n",
    "    pin_code TEXT,\n",
    "    email TEXT,\n",
    "    created_at TIMESTAMP DEFAULT CURRENT_TIME,\n",
    "    udpated_at TIMESTAMP DEFAULT CURRENT_TIME\n",
    ")\"\"\"\n",
    "\n",
    "\n",
    "# CREATE TABLE accounts (\n",
    "#     id INTEGER Primary Key,\n",
    "#     user_id INTEGER,\n",
    "#     account_type INTEGER,\n",
    "#     balance REAL,\n",
    "#     FOREIGN KEY (user_id) REFERENCES users(id),\n",
    "#     FOREIGN KEY (account_type) REFERENCES account_types(id)\n",
    "# )\n",
    "\n",
    "# CREATE TABLE account_types (\n",
    "#     id INTEGER Primary Key,\n",
    "#     account_name TEXT\n",
    "# )\n",
    "# \"\"\""
   ]
  },
  {
   "cell_type": "code",
   "execution_count": 75,
   "metadata": {},
   "outputs": [
    {
     "name": "stdout",
     "output_type": "stream",
     "text": [
      "query created\n",
      "output received\n",
      "table data\n"
     ]
    },
    {
     "data": {
      "text/plain": [
       "[]"
      ]
     },
     "execution_count": 75,
     "metadata": {},
     "output_type": "execute_result"
    }
   ],
   "source": [
    "select_table(table_name= \"users\")"
   ]
  },
  {
   "cell_type": "code",
   "execution_count": 77,
   "metadata": {},
   "outputs": [
    {
     "data": {
      "text/plain": [
       "[('table',\n",
       "  'users',\n",
       "  'users',\n",
       "  2,\n",
       "  'CREATE TABLE users (\\n    id INTEGER Primary Key,\\n    first_name TEXT ,\\n    last_name TEXT,\\n    phone_number TEXT,\\n    pin_code TEXT,\\n    email TEXT,\\n    created_at TIMESTAMP DEFAULT CURRENT_TIME,\\n    udpated_at TIMESTAMP DEFAULT CURRENT_TIME\\n)')]"
      ]
     },
     "execution_count": 77,
     "metadata": {},
     "output_type": "execute_result"
    }
   ],
   "source": [
    "show_tables(connection=conn)"
   ]
  },
  {
   "cell_type": "code",
   "execution_count": null,
   "metadata": {},
   "outputs": [],
   "source": []
  }
 ],
 "metadata": {
  "kernelspec": {
   "display_name": "Python 3",
   "language": "python",
   "name": "python3"
  },
  "language_info": {
   "codemirror_mode": {
    "name": "ipython",
    "version": 3
   },
   "file_extension": ".py",
   "mimetype": "text/x-python",
   "name": "python",
   "nbconvert_exporter": "python",
   "pygments_lexer": "ipython3",
   "version": "3.8.2"
  },
  "orig_nbformat": 4
 },
 "nbformat": 4,
 "nbformat_minor": 2
}
